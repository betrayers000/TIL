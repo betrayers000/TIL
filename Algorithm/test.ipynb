{
 "cells": [
  {
   "cell_type": "code",
   "execution_count": null,
   "metadata": {},
   "outputs": [],
   "source": [
    "10\n",
    "7 3 6 4 2 9 5 8 1\n",
    "5 8 9 1 6 7 3 2 4\n",
    "2 1 4 5 8 3 6 9 7\n",
    "8 4 7 9 3 6 1 5 2\n",
    "1 5 3 8 4 2 9 7 6\n",
    "9 6 2 7 5 1 8 4 3\n",
    "4 2 1 3 9 8 7 6 5\n",
    "3 9 5 6 7 4 2 1 8\n",
    "6 7 8 2 1 5 4 3 9\n"
   ]
  },
  {
   "cell_type": "code",
   "execution_count": 12,
   "metadata": {},
   "outputs": [
    {
     "name": "stdout",
     "output_type": "stream",
     "text": [
      "\n"
     ]
    },
    {
     "ename": "ValueError",
     "evalue": "invalid literal for int() with base 10: ''",
     "output_type": "error",
     "traceback": [
      "\u001b[1;31m---------------------------------------------------------------------------\u001b[0m",
      "\u001b[1;31mValueError\u001b[0m                                Traceback (most recent call last)",
      "\u001b[1;32m<ipython-input-12-d8c93781e073>\u001b[0m in \u001b[0;36m<module>\u001b[1;34m\u001b[0m\n\u001b[0;32m      8\u001b[0m \u001b[1;33m\u001b[0m\u001b[0m\n\u001b[0;32m      9\u001b[0m \u001b[1;33m\u001b[0m\u001b[0m\n\u001b[1;32m---> 10\u001b[1;33m \u001b[0mT\u001b[0m \u001b[1;33m=\u001b[0m \u001b[0mint\u001b[0m\u001b[1;33m(\u001b[0m\u001b[0minput\u001b[0m\u001b[1;33m(\u001b[0m\u001b[1;33m)\u001b[0m\u001b[1;33m)\u001b[0m\u001b[1;33m\u001b[0m\u001b[1;33m\u001b[0m\u001b[0m\n\u001b[0m\u001b[0;32m     11\u001b[0m \u001b[1;32mfor\u001b[0m \u001b[0mt\u001b[0m \u001b[1;32min\u001b[0m \u001b[0mrange\u001b[0m\u001b[1;33m(\u001b[0m\u001b[1;36m1\u001b[0m\u001b[1;33m,\u001b[0m \u001b[0mT\u001b[0m\u001b[1;33m+\u001b[0m\u001b[1;36m1\u001b[0m\u001b[1;33m)\u001b[0m\u001b[1;33m:\u001b[0m\u001b[1;33m\u001b[0m\u001b[1;33m\u001b[0m\u001b[0m\n\u001b[0;32m     12\u001b[0m     \u001b[0mboard\u001b[0m \u001b[1;33m=\u001b[0m \u001b[1;33m[\u001b[0m\u001b[1;33m[\u001b[0m\u001b[0mint\u001b[0m\u001b[1;33m(\u001b[0m\u001b[0mnum\u001b[0m\u001b[1;33m)\u001b[0m \u001b[1;32mfor\u001b[0m \u001b[0mnum\u001b[0m \u001b[1;32min\u001b[0m \u001b[0minput\u001b[0m\u001b[1;33m(\u001b[0m\u001b[1;33m)\u001b[0m\u001b[1;33m.\u001b[0m\u001b[0msplit\u001b[0m\u001b[1;33m(\u001b[0m\u001b[1;33m)\u001b[0m\u001b[1;33m]\u001b[0m \u001b[1;32mfor\u001b[0m \u001b[0mn\u001b[0m \u001b[1;32min\u001b[0m \u001b[0mrange\u001b[0m\u001b[1;33m(\u001b[0m\u001b[1;36m9\u001b[0m\u001b[1;33m)\u001b[0m\u001b[1;33m]\u001b[0m\u001b[1;33m\u001b[0m\u001b[1;33m\u001b[0m\u001b[0m\n",
      "\u001b[1;31mValueError\u001b[0m: invalid literal for int() with base 10: ''"
     ]
    }
   ],
   "source": [
    "def check_sdoku(line):\n",
    "    s = set(line)\n",
    "    if len(s) == 9:\n",
    "        return True\n",
    "    else: \n",
    "        return False\n",
    "\n",
    "\n",
    "T = int(input())\n",
    "for t in range(1, T+1):\n",
    "    board = [[int(num) for num in input().split()] for n in range(9)]\n",
    "        \n",
    "    \n",
    "print(board)"
   ]
  },
  {
   "cell_type": "code",
   "execution_count": 13,
   "metadata": {
    "scrolled": false
   },
   "outputs": [
    {
     "data": {
      "text/plain": [
       "[[7, 3, 6, 4, 2, 9, 5, 8, 1],\n",
       " [5, 8, 9, 1, 6, 7, 3, 2, 4],\n",
       " [2, 1, 4, 5, 8, 3, 6, 9, 7],\n",
       " [8, 4, 7, 9, 3, 6, 1, 5, 2],\n",
       " [1, 5, 3, 8, 4, 2, 9, 7, 6],\n",
       " [9, 6, 2, 7, 5, 1, 8, 4, 3],\n",
       " [4, 2, 1, 3, 9, 8, 7, 6, 5],\n",
       " [3, 9, 5, 6, 7, 4, 2, 1, 8],\n",
       " [6, 7, 8, 2, 1, 5, 4, 3, 9]]"
      ]
     },
     "execution_count": 13,
     "metadata": {},
     "output_type": "execute_result"
    }
   ],
   "source": [
    "board"
   ]
  },
  {
   "cell_type": "code",
   "execution_count": 73,
   "metadata": {
    "scrolled": false
   },
   "outputs": [
    {
     "name": "stdout",
     "output_type": "stream",
     "text": [
      "[True, True, True, True, True, True, True, True, True, True, True, True, True, True, True, True, True, True, True, True, True, True, True, True, True, True, True]\n"
     ]
    }
   ],
   "source": [
    "h_lines = []\n",
    "for i in range(9):\n",
    "    h_line = [board[j][i] for j in range(9)]\n",
    "    h_lines.append(h_line)\n",
    "    \n",
    "ar = []\n",
    "for x in [0, 3, 6]:\n",
    "    area = []\n",
    "    areas = []\n",
    "    for n in range(9):\n",
    "        if len(area) == 9:\n",
    "            areas.append(area)\n",
    "            area=[]\n",
    "        for c in range(3):\n",
    "            area.append(board[n][c+x])\n",
    "    else:\n",
    "        areas.append(area)\n",
    "    ar.extend(areas)\n",
    "\n",
    "result = []\n",
    "for b in board:\n",
    "    check = check_sdoku(b)\n",
    "    result.append(check)\n",
    "for line in h_lines:\n",
    "    check = check_sdoku(line)\n",
    "    result.append(check)\n",
    "for a in ar :\n",
    "    check = check_sdoku(a)\n",
    "    result.append(check)\n",
    "print(result)\n"
   ]
  },
  {
   "cell_type": "code",
   "execution_count": null,
   "metadata": {},
   "outputs": [],
   "source": []
  }
 ],
 "metadata": {
  "kernelspec": {
   "display_name": "Python 3",
   "language": "python",
   "name": "python3"
  }
 },
 "nbformat": 4,
 "nbformat_minor": 2
}
